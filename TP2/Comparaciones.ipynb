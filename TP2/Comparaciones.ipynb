{
 "cells": [
  {
   "cell_type": "code",
   "execution_count": 2,
   "metadata": {},
   "outputs": [],
   "source": [
    "from src.Juego import JuegoCartas\n",
    "from random import randint\n",
    "import numpy as np\n",
    "import matplotlib.pyplot as plt\n",
    "import pandas as pd\n",
    "from math import sqrt"
   ]
  },
  {
   "cell_type": "markdown",
   "metadata": {},
   "source": [
    "Vemos como el siguiente ejemplo de código verifica que funciona el programa:"
   ]
  },
  {
   "cell_type": "code",
   "execution_count": 3,
   "metadata": {},
   "outputs": [
    {
     "name": "stdout",
     "output_type": "stream",
     "text": [
      "Jugador 1: \n",
      "Cartas elegidas: 5,3,1\n",
      "Puntos sumados: 9\n",
      "\n",
      "Jugador 2: \n",
      "Cartas elegidas: 0,2,4\n",
      "Puntos sumados: 6\n"
     ]
    }
   ],
   "source": [
    "cartas = [0, 1, 2, 3, 4, 5]\n",
    "juego = JuegoCartas(cartas)\n",
    "print(juego)"
   ]
  },
  {
   "cell_type": "markdown",
   "metadata": {},
   "source": [
    "Generaremos diferentes casos y veremos la cantidad de iteraciones de los loops (operaciones no constantes) en función del tamaño del input."
   ]
  },
  {
   "cell_type": "code",
   "execution_count": 4,
   "metadata": {},
   "outputs": [],
   "source": [
    "simular = lambda n: JuegoCartas([randint(0,100) for _ in range(n)]).iteraciones"
   ]
  },
  {
   "cell_type": "code",
   "execution_count": 5,
   "metadata": {
    "scrolled": true
   },
   "outputs": [
    {
     "name": "stdout",
     "output_type": "stream",
     "text": [
      "n = 1 ⇒ n^2 = 1, doble de las iteraciones = 2, iteraciones = 1\n",
      "n = 2 ⇒ n^2 = 4, doble de las iteraciones = 6, iteraciones = 3\n",
      "n = 4 ⇒ n^2 = 16, doble de las iteraciones = 22, iteraciones = 11\n",
      "n = 8 ⇒ n^2 = 64, doble de las iteraciones = 78, iteraciones = 39\n",
      "n = 16 ⇒ n^2 = 256, doble de las iteraciones = 286, iteraciones = 143\n",
      "n = 32 ⇒ n^2 = 1024, doble de las iteraciones = 1086, iteraciones = 543\n",
      "n = 64 ⇒ n^2 = 4096, doble de las iteraciones = 4222, iteraciones = 2111\n",
      "n = 128 ⇒ n^2 = 16384, doble de las iteraciones = 16638, iteraciones = 8319\n",
      "n = 256 ⇒ n^2 = 65536, doble de las iteraciones = 66046, iteraciones = 33023\n",
      "n = 512 ⇒ n^2 = 262144, doble de las iteraciones = 263166, iteraciones = 131583\n",
      "n = 1024 ⇒ n^2 = 1048576, doble de las iteraciones = 1050622, iteraciones = 525311\n",
      "n = 2048 ⇒ n^2 = 4194304, doble de las iteraciones = 4198398, iteraciones = 2099199\n",
      "n = 4096 ⇒ n^2 = 16777216, doble de las iteraciones = 16785406, iteraciones = 8392703\n"
     ]
    }
   ],
   "source": [
    "iteraciones = [2**e for e in range(0,13)]\n",
    "data = []\n",
    "for n in iteraciones:\n",
    "    its = simular(n)\n",
    "    data.append((n, its))\n",
    "    print(f\"n = {n} ⇒ n^2 = {n**2}, doble de las iteraciones = {its * 2}, iteraciones = {its}\")"
   ]
  },
  {
   "cell_type": "markdown",
   "metadata": {},
   "source": [
    "Podemos ver como (el doble de) las iteraciones de los loops de nuestro programa aproxima muy bien al cuadrado del tamaño del input.\n",
    "\n",
    "Vemos como el crecimiento es efectivamente cuadrático y aproxima el cuadrado del tamaño del input.\n",
    "<div align=\"right\">□</div>"
   ]
  },
  {
   "cell_type": "code",
   "execution_count": 6,
   "metadata": {
    "scrolled": true
   },
   "outputs": [
    {
     "data": {
      "text/html": [
       "<div>\n",
       "<style scoped>\n",
       "    .dataframe tbody tr th:only-of-type {\n",
       "        vertical-align: middle;\n",
       "    }\n",
       "\n",
       "    .dataframe tbody tr th {\n",
       "        vertical-align: top;\n",
       "    }\n",
       "\n",
       "    .dataframe thead th {\n",
       "        text-align: right;\n",
       "    }\n",
       "</style>\n",
       "<table border=\"1\" class=\"dataframe\">\n",
       "  <thead>\n",
       "    <tr style=\"text-align: right;\">\n",
       "      <th></th>\n",
       "      <th>iteraciones</th>\n",
       "    </tr>\n",
       "    <tr>\n",
       "      <th>cartas</th>\n",
       "      <th></th>\n",
       "    </tr>\n",
       "  </thead>\n",
       "  <tbody>\n",
       "    <tr>\n",
       "      <th>1</th>\n",
       "      <td>1.000000</td>\n",
       "    </tr>\n",
       "    <tr>\n",
       "      <th>2</th>\n",
       "      <td>1.732051</td>\n",
       "    </tr>\n",
       "    <tr>\n",
       "      <th>4</th>\n",
       "      <td>3.316625</td>\n",
       "    </tr>\n",
       "    <tr>\n",
       "      <th>8</th>\n",
       "      <td>6.244998</td>\n",
       "    </tr>\n",
       "    <tr>\n",
       "      <th>16</th>\n",
       "      <td>11.958261</td>\n",
       "    </tr>\n",
       "    <tr>\n",
       "      <th>32</th>\n",
       "      <td>23.302360</td>\n",
       "    </tr>\n",
       "    <tr>\n",
       "      <th>64</th>\n",
       "      <td>45.945620</td>\n",
       "    </tr>\n",
       "    <tr>\n",
       "      <th>128</th>\n",
       "      <td>91.208552</td>\n",
       "    </tr>\n",
       "    <tr>\n",
       "      <th>256</th>\n",
       "      <td>181.722316</td>\n",
       "    </tr>\n",
       "    <tr>\n",
       "      <th>512</th>\n",
       "      <td>362.743711</td>\n",
       "    </tr>\n",
       "    <tr>\n",
       "      <th>1024</th>\n",
       "      <td>724.783416</td>\n",
       "    </tr>\n",
       "    <tr>\n",
       "      <th>2048</th>\n",
       "      <td>1448.861277</td>\n",
       "    </tr>\n",
       "    <tr>\n",
       "      <th>4096</th>\n",
       "      <td>2897.016224</td>\n",
       "    </tr>\n",
       "  </tbody>\n",
       "</table>\n",
       "</div>"
      ],
      "text/plain": [
       "        iteraciones\n",
       "cartas             \n",
       "1          1.000000\n",
       "2          1.732051\n",
       "4          3.316625\n",
       "8          6.244998\n",
       "16        11.958261\n",
       "32        23.302360\n",
       "64        45.945620\n",
       "128       91.208552\n",
       "256      181.722316\n",
       "512      362.743711\n",
       "1024     724.783416\n",
       "2048    1448.861277\n",
       "4096    2897.016224"
      ]
     },
     "execution_count": 6,
     "metadata": {},
     "output_type": "execute_result"
    }
   ],
   "source": [
    "df = pd.DataFrame({\"cartas\": [x[0] for x in data],\\\n",
    "                   \"iteraciones\": [sqrt(x[1]) for x in data]})\n",
    "df = df.set_index('cartas')\n",
    "df"
   ]
  },
  {
   "cell_type": "code",
   "execution_count": 7,
   "metadata": {},
   "outputs": [
    {
     "data": {
      "text/plain": [
       "Text(0, 0.5, 'Raíz cuadrada de las millones de iteraciones realizadas.')"
      ]
     },
     "execution_count": 7,
     "metadata": {},
     "output_type": "execute_result"
    },
    {
     "data": {
      "image/png": "[encoded data removed]",
      "text/plain": [
       "<Figure size 432x288 with 1 Axes>"
      ]
     },
     "metadata": {
      "needs_background": "light"
     },
     "output_type": "display_data"
    }
   ],
   "source": [
    "df.plot()\n",
    "plt.title(\"Iteraciones del programa en función de la cantidad de cartas.\", fontsize=10, fontweight = \"bold\")\n",
    "plt.xlabel(\"Número de cartas.\", fontsize=10)\n",
    "plt.ylabel(\"Raíz cuadrada de las millones de iteraciones realizadas.\", fontsize=10)"
   ]
  },
  {
   "cell_type": "markdown",
   "metadata": {},
   "source": [
    "A priori este gráfico no parece representar el crecimiento de una función cuadrática, pero si vemos que el eje $y$ representa la raiz de las millones de iteraciones realizadas, vemos que la función original sería el producto de tomar el cuadrado de la actual. Eso si representa, al menos gráficamente, un polinomio de grado dos."
   ]
  }
 ],
 "metadata": {
  "kernelspec": {
   "display_name": "Python 3",
   "language": "python",
   "name": "python3"
  },
  "language_info": {
   "codemirror_mode": {
    "name": "ipython",
    "version": 3
   },
   "file_extension": ".py",
   "mimetype": "text/x-python",
   "name": "python",
   "nbconvert_exporter": "python",
   "pygments_lexer": "ipython3",
   "version": "3.9.0"
  }
 },
 "nbformat": 4,
 "nbformat_minor": 2
}
