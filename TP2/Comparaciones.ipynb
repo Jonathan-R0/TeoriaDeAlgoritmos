{
 "cells": [
  {
   "cell_type": "code",
   "execution_count": 1,
   "metadata": {},
   "outputs": [],
   "source": [
    "from src.Juego import JuegoCartas\n",
    "from random import randint\n",
    "import numpy as np"
   ]
  },
  {
   "cell_type": "markdown",
   "metadata": {},
   "source": [
    "Vemos como el siguiente ejemplo de código verifica que funciona el programa:"
   ]
  },
  {
   "cell_type": "code",
   "execution_count": 2,
   "metadata": {},
   "outputs": [
    {
     "name": "stdout",
     "output_type": "stream",
     "text": [
      "Jugador 1: \n",
      "Cartas elegidas: 5,3,1\n",
      "Puntos sumados: 9\n",
      "\n",
      "Jugador 2: \n",
      "Cartas elegidas: 0,2,4\n",
      "Puntos sumados: 6\n"
     ]
    }
   ],
   "source": [
    "cartas = [0, 1, 2, 3, 4, 5]\n",
    "juego = JuegoCartas(cartas)\n",
    "print(juego)"
   ]
  },
  {
   "cell_type": "markdown",
   "metadata": {},
   "source": [
    "Generaremos diferentes casos y veremos la cantidad de iteraciones de los loops (operaciones no constantes) en función del tamaño del input."
   ]
  },
  {
   "cell_type": "code",
   "execution_count": 3,
   "metadata": {},
   "outputs": [],
   "source": [
    "def simular(n: int) -> (int, int):\n",
    "    cartas = [randint(0,100) for _ in range(n)]\n",
    "    juego = JuegoCartas(cartas)\n",
    "    return (len(cartas) ** 2, juego.iteraciones)"
   ]
  },
  {
   "cell_type": "code",
   "execution_count": 5,
   "metadata": {},
   "outputs": [
    {
     "name": "stdout",
     "output_type": "stream",
     "text": [
      "n = 1 ⇒ n^2 = 1, iteraciones = (1, 1)\n",
      "n = 2 ⇒ n^2 = 4, iteraciones = (4, 3)\n",
      "n = 4 ⇒ n^2 = 16, iteraciones = (16, 11)\n",
      "n = 8 ⇒ n^2 = 64, iteraciones = (64, 39)\n",
      "n = 16 ⇒ n^2 = 256, iteraciones = (256, 143)\n",
      "n = 32 ⇒ n^2 = 1024, iteraciones = (1024, 543)\n",
      "n = 64 ⇒ n^2 = 4096, iteraciones = (4096, 2111)\n",
      "n = 128 ⇒ n^2 = 16384, iteraciones = (16384, 8319)\n",
      "n = 256 ⇒ n^2 = 65536, iteraciones = (65536, 33023)\n",
      "n = 512 ⇒ n^2 = 262144, iteraciones = (262144, 131583)\n",
      "n = 1024 ⇒ n^2 = 1048576, iteraciones = (1048576, 525311)\n",
      "n = 2048 ⇒ n^2 = 4194304, iteraciones = (4194304, 2099199)\n",
      "n = 4096 ⇒ n^2 = 16777216, iteraciones = (16777216, 8392703)\n"
     ]
    }
   ],
   "source": [
    "iteraciones = [2**e for e in range(0,13)]\n",
    "for i in iteraciones:\n",
    "    print(f\"n = {i} ⇒ n^2 = {i**2}, iteraciones = {simular(i)}\")"
   ]
  }
 ],
 "metadata": {
  "kernelspec": {
   "display_name": "Python 3",
   "language": "python",
   "name": "python3"
  },
  "language_info": {
   "codemirror_mode": {
    "name": "ipython",
    "version": 3
   },
   "file_extension": ".py",
   "mimetype": "text/x-python",
   "name": "python",
   "nbconvert_exporter": "python",
   "pygments_lexer": "ipython3",
   "version": "3.9.0"
  }
 },
 "nbformat": 4,
 "nbformat_minor": 2
}
