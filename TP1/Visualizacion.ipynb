{
  "nbformat": 4,
  "nbformat_minor": 0,
  "metadata": {
    "colab": {
      "name": "Untitled0.ipynb",
      "provenance": []
    },
    "kernelspec": {
      "name": "python3",
      "display_name": "Python 3"
    },
    "language_info": {
      "name": "python"
    }
  },
  "cells": [
    {
      "cell_type": "code",
      "metadata": {
        "colab": {
          "base_uri": "https://localhost:8080/"
        },
        "id": "jykKvp_VDDcV",
        "outputId": "ef4ae819-bcc7-4987-b598-89d27270e44d"
      },
      "source": [
        "pip install pandas\n"
      ],
      "execution_count": 1,
      "outputs": [
        {
          "output_type": "stream",
          "text": [
            "Requirement already satisfied: pandas in /usr/local/lib/python3.7/dist-packages (1.1.5)\n",
            "Requirement already satisfied: pytz>=2017.2 in /usr/local/lib/python3.7/dist-packages (from pandas) (2018.9)\n",
            "Requirement already satisfied: numpy>=1.15.4 in /usr/local/lib/python3.7/dist-packages (from pandas) (1.19.5)\n",
            "Requirement already satisfied: python-dateutil>=2.7.3 in /usr/local/lib/python3.7/dist-packages (from pandas) (2.8.1)\n",
            "Requirement already satisfied: six>=1.5 in /usr/local/lib/python3.7/dist-packages (from python-dateutil>=2.7.3->pandas) (1.15.0)\n"
          ],
          "name": "stdout"
        }
      ]
    },
    {
      "cell_type": "code",
      "metadata": {
        "id": "UnyRJv9NDMIM"
      },
      "source": [
        "import pandas as pd\n",
        "import numpy as np\n"
      ],
      "execution_count": 13,
      "outputs": []
    },
    {
      "cell_type": "code",
      "metadata": {
        "id": "mbuA7DG_DPgQ"
      },
      "source": [
        "results = {\"cantidad contratos\": [1000000, 1500000, 2000000, 2500000, 3000000], \"tiempo real\": [2.112, 3.295, 4.211, 5.382, 6.53]}"
      ],
      "execution_count": 51,
      "outputs": []
    },
    {
      "cell_type": "code",
      "metadata": {
        "id": "_lSsbV51DPjy"
      },
      "source": [
        "df_tiempo = pd.DataFrame(results)\n",
        "df_tiempo[\"cantidad contratos\"] = np.log(df_tiempo[\"cantidad contratos\"])\n",
        "df_tiempo.set_index(\"cantidad contratos\", inplace = True)"
      ],
      "execution_count": 52,
      "outputs": []
    },
    {
      "cell_type": "code",
      "metadata": {
        "colab": {
          "base_uri": "https://localhost:8080/",
          "height": 235
        },
        "id": "l0M2KeS6DPl-",
        "outputId": "5421f96d-628a-4c89-8792-106e902f8820"
      },
      "source": [
        "df_tiempo"
      ],
      "execution_count": 53,
      "outputs": [
        {
          "output_type": "execute_result",
          "data": {
            "text/html": [
              "<div>\n",
              "<style scoped>\n",
              "    .dataframe tbody tr th:only-of-type {\n",
              "        vertical-align: middle;\n",
              "    }\n",
              "\n",
              "    .dataframe tbody tr th {\n",
              "        vertical-align: top;\n",
              "    }\n",
              "\n",
              "    .dataframe thead th {\n",
              "        text-align: right;\n",
              "    }\n",
              "</style>\n",
              "<table border=\"1\" class=\"dataframe\">\n",
              "  <thead>\n",
              "    <tr style=\"text-align: right;\">\n",
              "      <th></th>\n",
              "      <th>tiempo real</th>\n",
              "    </tr>\n",
              "    <tr>\n",
              "      <th>cantidad contratos</th>\n",
              "      <th></th>\n",
              "    </tr>\n",
              "  </thead>\n",
              "  <tbody>\n",
              "    <tr>\n",
              "      <th>13.815511</th>\n",
              "      <td>2.112</td>\n",
              "    </tr>\n",
              "    <tr>\n",
              "      <th>14.220976</th>\n",
              "      <td>3.295</td>\n",
              "    </tr>\n",
              "    <tr>\n",
              "      <th>14.508658</th>\n",
              "      <td>4.211</td>\n",
              "    </tr>\n",
              "    <tr>\n",
              "      <th>14.731801</th>\n",
              "      <td>5.382</td>\n",
              "    </tr>\n",
              "    <tr>\n",
              "      <th>14.914123</th>\n",
              "      <td>6.530</td>\n",
              "    </tr>\n",
              "  </tbody>\n",
              "</table>\n",
              "</div>"
            ],
            "text/plain": [
              "                    tiempo real\n",
              "cantidad contratos             \n",
              "13.815511                 2.112\n",
              "14.220976                 3.295\n",
              "14.508658                 4.211\n",
              "14.731801                 5.382\n",
              "14.914123                 6.530"
            ]
          },
          "metadata": {
            "tags": []
          },
          "execution_count": 53
        }
      ]
    },
    {
      "cell_type": "code",
      "metadata": {
        "colab": {
          "base_uri": "https://localhost:8080/",
          "height": 351
        },
        "id": "N6TejIp5DPoY",
        "outputId": "ac1b10f5-a4ef-48e9-beb5-b6ece30494dd"
      },
      "source": [
        "ax = df_tiempo.plot(figsize = (20, 5))\n",
        "ax.set_xlabel(\"log(cantidad contratos)\")\n",
        "ax.set_ylabel(\"Tiempo real en Segundos\")"
      ],
      "execution_count": 55,
      "outputs": [
        {
          "output_type": "execute_result",
          "data": {
            "text/plain": [
              "Text(0, 0.5, 'Tiempo real en Segundos')"
            ]
          },
          "metadata": {
            "tags": []
          },
          "execution_count": 55
        },
        {
          "output_type": "display_data",
          "data": {
            "image/png": "[encoded data removed]",
            "text/plain": [
              "<Figure size 1440x360 with 1 Axes>"
            ]
          },
          "metadata": {
            "tags": [],
            "needs_background": "light"
          }
        }
      ]
    }
  ]
}